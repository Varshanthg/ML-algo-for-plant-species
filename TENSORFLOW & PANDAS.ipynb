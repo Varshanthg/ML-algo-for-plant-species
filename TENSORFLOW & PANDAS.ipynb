{
 "cells": [
  {
   "cell_type": "code",
   "execution_count": 1,
   "id": "567b682c",
   "metadata": {},
   "outputs": [],
   "source": [
    "from __future__ import absolute_import, division, print_function, unicode_literals\n",
    "\n",
    "\n",
    "import tensorflow as tf\n",
    "\n",
    "import pandas as pd"
   ]
  },
  {
   "cell_type": "code",
   "execution_count": 2,
   "id": "07dcf0d2",
   "metadata": {},
   "outputs": [
    {
     "name": "stdout",
     "output_type": "stream",
     "text": [
      "   SepalLength  SepalWidth  PetalLength  PetalWidth  Species\n",
      "0          6.4         2.8          5.6         2.2        2\n",
      "1          5.0         2.3          3.3         1.0        1\n",
      "2          4.9         2.5          4.5         1.7        2\n",
      "3          4.9         3.1          1.5         0.1        0\n",
      "4          5.7         3.8          1.7         0.3        0\n"
     ]
    }
   ],
   "source": [
    "CSV_COLUMN_NAMES = ['SepalLength', 'SepalWidth', 'PetalLength', 'PetalWidth', 'Species']\n",
    "SPECIES = ['Setosa', 'Versicolor', 'Virginica']\n",
    "# Lets define some constants to help us later on\n",
    "\n",
    "train_path = tf.keras.utils.get_file(\n",
    "    \"iris_training.csv\", \"https://storage.googleapis.com/download.tensorflow.org/data/iris_training.csv\")\n",
    "test_path = tf.keras.utils.get_file(\n",
    "    \"iris_test.csv\", \"https://storage.googleapis.com/download.tensorflow.org/data/iris_test.csv\")\n",
    "\n",
    "\n",
    "train = pd.read_csv(train_path, names=CSV_COLUMN_NAMES, header=0)\n",
    "test = pd.read_csv(test_path, names=CSV_COLUMN_NAMES, header=0)\n",
    "# Here we use keras (a module inside of TensorFlow) to grab our datasets and read them into a pandas dataframe\n",
    "print(train.head())\n",
    "train_y = train.pop('Species')\n",
    "test_y = test.pop('Species')\n",
    " # the species column is now gone\n",
    "\n",
    "  \n",
    "    "
   ]
  },
  {
   "cell_type": "code",
   "execution_count": 3,
   "id": "8da580e3",
   "metadata": {},
   "outputs": [
    {
     "name": "stdout",
     "output_type": "stream",
     "text": [
      "WARNING:tensorflow:From /var/folders/bg/6_9vb87j4g7bg1cdvmfv4v_w0000gn/T/ipykernel_2637/3383485733.py:4: numeric_column (from tensorflow.python.feature_column.feature_column_v2) is deprecated and will be removed in a future version.\n",
      "Instructions for updating:\n",
      "Use Keras preprocessing layers instead, either directly or via the `tf.keras.utils.FeatureSpace` utility. Each of `tf.feature_column.*` has a functional equivalent in `tf.keras.layers` for feature preprocessing when training a Keras model.\n"
     ]
    }
   ],
   "source": [
    "# Feature columns describe how to use the input.\n",
    "my_feature_columns = []\n",
    "for key in train.keys():\n",
    "    my_feature_columns.append(tf.feature_column.numeric_column(key=key))\n",
    "    "
   ]
  },
  {
   "cell_type": "code",
   "execution_count": 4,
   "id": "e9cc4b3c",
   "metadata": {},
   "outputs": [],
   "source": [
    "def input_fn(features, labels, training=True, batch_size=256):\n",
    "    # Convert the inputs to a Dataset.\n",
    "    dataset = tf.data.Dataset.from_tensor_slices((dict(features), labels))\n",
    "\n",
    "    # Shuffle and repeat if you are in training mode.\n",
    "    if training:\n",
    "        dataset = dataset.shuffle(1000).repeat()\n",
    "    \n",
    "    return dataset.batch(batch_size)\n"
   ]
  },
  {
   "cell_type": "code",
   "execution_count": 5,
   "id": "1b3b9e84",
   "metadata": {},
   "outputs": [
    {
     "name": "stdout",
     "output_type": "stream",
     "text": [
      "WARNING:tensorflow:From /var/folders/bg/6_9vb87j4g7bg1cdvmfv4v_w0000gn/T/ipykernel_2637/1548703990.py:3: DNNClassifierV2.__init__ (from tensorflow_estimator.python.estimator.canned.dnn) is deprecated and will be removed in a future version.\n",
      "Instructions for updating:\n",
      "Use tf.keras instead.\n",
      "WARNING:tensorflow:From /Users/satya/anaconda3/lib/python3.11/site-packages/tensorflow_estimator/python/estimator/head/head_utils.py:59: MultiClassHead.__init__ (from tensorflow_estimator.python.estimator.head.multi_class_head) is deprecated and will be removed in a future version.\n",
      "Instructions for updating:\n",
      "Use tf.keras instead.\n",
      "WARNING:tensorflow:From /Users/satya/anaconda3/lib/python3.11/site-packages/tensorflow_estimator/python/estimator/canned/dnn.py:759: Estimator.__init__ (from tensorflow_estimator.python.estimator.estimator) is deprecated and will be removed in a future version.\n",
      "Instructions for updating:\n",
      "Use tf.keras instead.\n",
      "WARNING:tensorflow:From /Users/satya/anaconda3/lib/python3.11/site-packages/tensorflow_estimator/python/estimator/estimator.py:1844: RunConfig.__init__ (from tensorflow_estimator.python.estimator.run_config) is deprecated and will be removed in a future version.\n",
      "Instructions for updating:\n",
      "Use tf.keras instead.\n",
      "INFO:tensorflow:Using default config.\n",
      "WARNING:tensorflow:Using temporary folder as model directory: /var/folders/bg/6_9vb87j4g7bg1cdvmfv4v_w0000gn/T/tmps5b2runt\n",
      "INFO:tensorflow:Using config: {'_model_dir': '/var/folders/bg/6_9vb87j4g7bg1cdvmfv4v_w0000gn/T/tmps5b2runt', '_tf_random_seed': None, '_save_summary_steps': 100, '_save_checkpoints_steps': None, '_save_checkpoints_secs': 600, '_session_config': allow_soft_placement: true\n",
      "graph_options {\n",
      "  rewrite_options {\n",
      "    meta_optimizer_iterations: ONE\n",
      "  }\n",
      "}\n",
      ", '_keep_checkpoint_max': 5, '_keep_checkpoint_every_n_hours': 10000, '_log_step_count_steps': 100, '_train_distribute': None, '_device_fn': None, '_protocol': None, '_eval_distribute': None, '_experimental_distribute': None, '_experimental_max_worker_delay_secs': None, '_session_creation_timeout_secs': 7200, '_checkpoint_save_graph_def': True, '_service': None, '_cluster_spec': ClusterSpec({}), '_task_type': 'worker', '_task_id': 0, '_global_id_in_cluster': 0, '_master': '', '_evaluation_master': '', '_is_chief': True, '_num_ps_replicas': 0, '_num_worker_replicas': 1}\n"
     ]
    }
   ],
   "source": [
    "# Build a DNN with 2 hidden layers with 30 and 10 hidden nodes each.\n",
    "# classifier ⇩ is our model here we are declaring it using DNN can also use Linearclassifier but not linearity in our dataset\n",
    "classifier = tf.estimator.DNNClassifier(\n",
    "    feature_columns=my_feature_columns,\n",
    "    # Two hidden layers of 30 and 10 nodes respectively.\n",
    "    hidden_units=[30, 10],\n",
    "    # The model must choose between 3 classes.\n",
    "    n_classes=3)"
   ]
  },
  {
   "cell_type": "code",
   "execution_count": 6,
   "id": "b4ac4084",
   "metadata": {},
   "outputs": [
    {
     "name": "stdout",
     "output_type": "stream",
     "text": [
      "WARNING:tensorflow:From /Users/satya/anaconda3/lib/python3.11/site-packages/tensorflow_estimator/python/estimator/estimator.py:385: StopAtStepHook.__init__ (from tensorflow.python.training.basic_session_run_hooks) is deprecated and will be removed in a future version.\n",
      "Instructions for updating:\n",
      "Use tf.keras instead.\n",
      "INFO:tensorflow:Calling model_fn.\n",
      "WARNING:tensorflow:From /Users/satya/anaconda3/lib/python3.11/site-packages/keras/src/optimizers/legacy/adagrad.py:93: calling Constant.__init__ (from tensorflow.python.ops.init_ops) with dtype is deprecated and will be removed in a future version.\n",
      "Instructions for updating:\n",
      "Call initializer instance with the dtype argument instead of passing it to the constructor\n",
      "WARNING:tensorflow:From /Users/satya/anaconda3/lib/python3.11/site-packages/tensorflow_estimator/python/estimator/model_fn.py:250: EstimatorSpec.__new__ (from tensorflow_estimator.python.estimator.model_fn) is deprecated and will be removed in a future version.\n",
      "Instructions for updating:\n",
      "Use tf.keras instead.\n",
      "INFO:tensorflow:Done calling model_fn.\n",
      "WARNING:tensorflow:From /Users/satya/anaconda3/lib/python3.11/site-packages/tensorflow_estimator/python/estimator/estimator.py:1416: NanTensorHook.__init__ (from tensorflow.python.training.basic_session_run_hooks) is deprecated and will be removed in a future version.\n",
      "Instructions for updating:\n",
      "Use tf.keras instead.\n",
      "WARNING:tensorflow:From /Users/satya/anaconda3/lib/python3.11/site-packages/tensorflow_estimator/python/estimator/estimator.py:1419: LoggingTensorHook.__init__ (from tensorflow.python.training.basic_session_run_hooks) is deprecated and will be removed in a future version.\n",
      "Instructions for updating:\n",
      "Use tf.keras instead.\n",
      "WARNING:tensorflow:From /Users/satya/anaconda3/lib/python3.11/site-packages/tensorflow/python/training/basic_session_run_hooks.py:232: SecondOrStepTimer.__init__ (from tensorflow.python.training.basic_session_run_hooks) is deprecated and will be removed in a future version.\n",
      "Instructions for updating:\n",
      "Use tf.keras instead.\n",
      "WARNING:tensorflow:From /Users/satya/anaconda3/lib/python3.11/site-packages/tensorflow_estimator/python/estimator/estimator.py:1456: CheckpointSaverHook.__init__ (from tensorflow.python.training.basic_session_run_hooks) is deprecated and will be removed in a future version.\n",
      "Instructions for updating:\n",
      "Use tf.keras instead.\n",
      "INFO:tensorflow:Create CheckpointSaverHook.\n",
      "WARNING:tensorflow:From /Users/satya/anaconda3/lib/python3.11/site-packages/tensorflow/python/training/monitored_session.py:579: StepCounterHook.__init__ (from tensorflow.python.training.basic_session_run_hooks) is deprecated and will be removed in a future version.\n",
      "Instructions for updating:\n",
      "Use tf.keras instead.\n",
      "WARNING:tensorflow:From /Users/satya/anaconda3/lib/python3.11/site-packages/tensorflow/python/training/monitored_session.py:586: SummarySaverHook.__init__ (from tensorflow.python.training.basic_session_run_hooks) is deprecated and will be removed in a future version.\n",
      "Instructions for updating:\n",
      "Use tf.keras instead.\n",
      "INFO:tensorflow:Graph was finalized.\n",
      "INFO:tensorflow:Running local_init_op.\n",
      "INFO:tensorflow:Done running local_init_op.\n",
      "INFO:tensorflow:Calling checkpoint listeners before saving checkpoint 0...\n",
      "INFO:tensorflow:Saving checkpoints for 0 into /var/folders/bg/6_9vb87j4g7bg1cdvmfv4v_w0000gn/T/tmps5b2runt/model.ckpt.\n",
      "INFO:tensorflow:Calling checkpoint listeners after saving checkpoint 0...\n",
      "WARNING:tensorflow:From /Users/satya/anaconda3/lib/python3.11/site-packages/tensorflow/python/training/monitored_session.py:1455: SessionRunArgs.__new__ (from tensorflow.python.training.session_run_hook) is deprecated and will be removed in a future version.\n",
      "Instructions for updating:\n",
      "Use tf.keras instead.\n",
      "WARNING:tensorflow:From /Users/satya/anaconda3/lib/python3.11/site-packages/tensorflow/python/training/monitored_session.py:1454: SessionRunContext.__init__ (from tensorflow.python.training.session_run_hook) is deprecated and will be removed in a future version.\n",
      "Instructions for updating:\n",
      "Use tf.keras instead.\n",
      "WARNING:tensorflow:From /Users/satya/anaconda3/lib/python3.11/site-packages/tensorflow/python/training/monitored_session.py:1474: SessionRunValues.__new__ (from tensorflow.python.training.session_run_hook) is deprecated and will be removed in a future version.\n",
      "Instructions for updating:\n",
      "Use tf.keras instead.\n",
      "INFO:tensorflow:loss = 1.2006911, step = 0\n",
      "INFO:tensorflow:global_step/sec: 1756.33\n",
      "INFO:tensorflow:loss = 0.97348255, step = 100 (0.057 sec)\n"
     ]
    },
    {
     "name": "stderr",
     "output_type": "stream",
     "text": [
      "2024-01-12 22:10:13.676314: I tensorflow/compiler/mlir/mlir_graph_optimization_pass.cc:388] MLIR V1 optimization pass is not enabled\n",
      "2024-01-12 22:10:13.678429: W tensorflow/core/common_runtime/type_inference.cc:339] Type inference failed. This indicates an invalid graph that escaped type checking. Error message: INVALID_ARGUMENT: expected compatible input types, but input 1:\n",
      "type_id: TFT_OPTIONAL\n",
      "args {\n",
      "  type_id: TFT_PRODUCT\n",
      "  args {\n",
      "    type_id: TFT_TENSOR\n",
      "    args {\n",
      "      type_id: TFT_INT64\n",
      "    }\n",
      "  }\n",
      "}\n",
      " is neither a subtype nor a supertype of the combined inputs preceding it:\n",
      "type_id: TFT_OPTIONAL\n",
      "args {\n",
      "  type_id: TFT_PRODUCT\n",
      "  args {\n",
      "    type_id: TFT_TENSOR\n",
      "    args {\n",
      "      type_id: TFT_INT32\n",
      "    }\n",
      "  }\n",
      "}\n",
      "\n",
      "\tfor Tuple type infernce function 0\n",
      "\twhile inferring type of node 'dnn/zero_fraction/cond/output/_18'\n"
     ]
    },
    {
     "name": "stdout",
     "output_type": "stream",
     "text": [
      "INFO:tensorflow:global_step/sec: 2480.84\n",
      "INFO:tensorflow:loss = 0.9222802, step = 200 (0.040 sec)\n",
      "INFO:tensorflow:global_step/sec: 2475.79\n",
      "INFO:tensorflow:loss = 0.9000518, step = 300 (0.040 sec)\n",
      "INFO:tensorflow:global_step/sec: 2409.59\n",
      "INFO:tensorflow:loss = 0.8628019, step = 400 (0.041 sec)\n",
      "INFO:tensorflow:global_step/sec: 2506.4\n",
      "INFO:tensorflow:loss = 0.8094017, step = 500 (0.040 sec)\n",
      "INFO:tensorflow:global_step/sec: 2427.89\n",
      "INFO:tensorflow:loss = 0.79134804, step = 600 (0.041 sec)\n",
      "INFO:tensorflow:global_step/sec: 2530.62\n",
      "INFO:tensorflow:loss = 0.77246404, step = 700 (0.039 sec)\n",
      "INFO:tensorflow:global_step/sec: 2528.62\n",
      "INFO:tensorflow:loss = 0.7378582, step = 800 (0.040 sec)\n",
      "INFO:tensorflow:global_step/sec: 2516.61\n",
      "INFO:tensorflow:loss = 0.7172288, step = 900 (0.040 sec)\n",
      "INFO:tensorflow:global_step/sec: 2515.34\n",
      "INFO:tensorflow:loss = 0.6966596, step = 1000 (0.040 sec)\n",
      "INFO:tensorflow:global_step/sec: 2476.12\n",
      "INFO:tensorflow:loss = 0.6803566, step = 1100 (0.040 sec)\n",
      "INFO:tensorflow:global_step/sec: 2507.13\n",
      "INFO:tensorflow:loss = 0.6563301, step = 1200 (0.040 sec)\n",
      "INFO:tensorflow:global_step/sec: 2485.6\n",
      "INFO:tensorflow:loss = 0.6409335, step = 1300 (0.040 sec)\n",
      "INFO:tensorflow:global_step/sec: 2521.6\n",
      "INFO:tensorflow:loss = 0.6354512, step = 1400 (0.040 sec)\n",
      "INFO:tensorflow:global_step/sec: 2552.27\n",
      "INFO:tensorflow:loss = 0.6176222, step = 1500 (0.039 sec)\n",
      "INFO:tensorflow:global_step/sec: 2504.63\n",
      "INFO:tensorflow:loss = 0.60401756, step = 1600 (0.040 sec)\n",
      "INFO:tensorflow:global_step/sec: 2493.82\n",
      "INFO:tensorflow:loss = 0.58510125, step = 1700 (0.040 sec)\n",
      "INFO:tensorflow:global_step/sec: 2475.68\n",
      "INFO:tensorflow:loss = 0.57761866, step = 1800 (0.040 sec)\n",
      "INFO:tensorflow:global_step/sec: 2516.55\n",
      "INFO:tensorflow:loss = 0.57951766, step = 1900 (0.040 sec)\n",
      "INFO:tensorflow:global_step/sec: 2459.17\n",
      "INFO:tensorflow:loss = 0.5604579, step = 2000 (0.041 sec)\n",
      "INFO:tensorflow:global_step/sec: 2484.42\n",
      "INFO:tensorflow:loss = 0.5409304, step = 2100 (0.040 sec)\n",
      "INFO:tensorflow:global_step/sec: 2539.23\n",
      "INFO:tensorflow:loss = 0.53219587, step = 2200 (0.039 sec)\n",
      "INFO:tensorflow:global_step/sec: 2465.05\n",
      "INFO:tensorflow:loss = 0.52776635, step = 2300 (0.041 sec)\n",
      "INFO:tensorflow:global_step/sec: 2497.93\n",
      "INFO:tensorflow:loss = 0.5203218, step = 2400 (0.040 sec)\n",
      "INFO:tensorflow:global_step/sec: 2507.28\n",
      "INFO:tensorflow:loss = 0.5105096, step = 2500 (0.040 sec)\n",
      "INFO:tensorflow:global_step/sec: 2521.43\n",
      "INFO:tensorflow:loss = 0.49354053, step = 2600 (0.040 sec)\n",
      "INFO:tensorflow:global_step/sec: 2502.18\n",
      "INFO:tensorflow:loss = 0.5004607, step = 2700 (0.040 sec)\n",
      "INFO:tensorflow:global_step/sec: 2521.57\n",
      "INFO:tensorflow:loss = 0.49312302, step = 2800 (0.040 sec)\n",
      "INFO:tensorflow:global_step/sec: 2510.93\n",
      "INFO:tensorflow:loss = 0.4793337, step = 2900 (0.040 sec)\n",
      "INFO:tensorflow:global_step/sec: 2491.7\n",
      "INFO:tensorflow:loss = 0.47647655, step = 3000 (0.040 sec)\n",
      "INFO:tensorflow:global_step/sec: 2448.53\n",
      "INFO:tensorflow:loss = 0.4811729, step = 3100 (0.041 sec)\n",
      "INFO:tensorflow:global_step/sec: 2524.3\n",
      "INFO:tensorflow:loss = 0.46691787, step = 3200 (0.040 sec)\n",
      "INFO:tensorflow:global_step/sec: 2513\n",
      "INFO:tensorflow:loss = 0.4620244, step = 3300 (0.040 sec)\n",
      "INFO:tensorflow:global_step/sec: 2506.02\n",
      "INFO:tensorflow:loss = 0.46164578, step = 3400 (0.040 sec)\n",
      "INFO:tensorflow:global_step/sec: 2455.42\n",
      "INFO:tensorflow:loss = 0.45744538, step = 3500 (0.041 sec)\n",
      "INFO:tensorflow:global_step/sec: 2501.31\n",
      "INFO:tensorflow:loss = 0.44810128, step = 3600 (0.040 sec)\n",
      "INFO:tensorflow:global_step/sec: 2481.13\n",
      "INFO:tensorflow:loss = 0.43455678, step = 3700 (0.040 sec)\n",
      "INFO:tensorflow:global_step/sec: 2499.38\n",
      "INFO:tensorflow:loss = 0.44002455, step = 3800 (0.040 sec)\n",
      "INFO:tensorflow:global_step/sec: 2441.84\n",
      "INFO:tensorflow:loss = 0.4451443, step = 3900 (0.041 sec)\n",
      "INFO:tensorflow:global_step/sec: 2501.93\n",
      "INFO:tensorflow:loss = 0.43290785, step = 4000 (0.040 sec)\n",
      "INFO:tensorflow:global_step/sec: 2511.8\n",
      "INFO:tensorflow:loss = 0.44381452, step = 4100 (0.040 sec)\n",
      "INFO:tensorflow:global_step/sec: 2471.64\n",
      "INFO:tensorflow:loss = 0.4268543, step = 4200 (0.040 sec)\n",
      "INFO:tensorflow:global_step/sec: 2489.17\n",
      "INFO:tensorflow:loss = 0.42894572, step = 4300 (0.040 sec)\n",
      "INFO:tensorflow:global_step/sec: 2515.4\n",
      "INFO:tensorflow:loss = 0.42111143, step = 4400 (0.040 sec)\n",
      "INFO:tensorflow:global_step/sec: 2491.85\n",
      "INFO:tensorflow:loss = 0.42142934, step = 4500 (0.040 sec)\n",
      "INFO:tensorflow:global_step/sec: 2536.47\n",
      "INFO:tensorflow:loss = 0.41858009, step = 4600 (0.039 sec)\n",
      "INFO:tensorflow:global_step/sec: 2472.12\n",
      "INFO:tensorflow:loss = 0.41537872, step = 4700 (0.040 sec)\n",
      "INFO:tensorflow:global_step/sec: 2431.68\n",
      "INFO:tensorflow:loss = 0.41316822, step = 4800 (0.041 sec)\n",
      "INFO:tensorflow:global_step/sec: 2504.3\n",
      "INFO:tensorflow:loss = 0.4094504, step = 4900 (0.040 sec)\n",
      "INFO:tensorflow:Calling checkpoint listeners before saving checkpoint 5000...\n",
      "INFO:tensorflow:Saving checkpoints for 5000 into /var/folders/bg/6_9vb87j4g7bg1cdvmfv4v_w0000gn/T/tmps5b2runt/model.ckpt.\n",
      "INFO:tensorflow:Calling checkpoint listeners after saving checkpoint 5000...\n",
      "INFO:tensorflow:Loss for final step: 0.41250697.\n"
     ]
    },
    {
     "data": {
      "text/plain": [
       "<tensorflow_estimator.python.estimator.canned.dnn.DNNClassifierV2 at 0x10585d110>"
      ]
     },
     "execution_count": 6,
     "metadata": {},
     "output_type": "execute_result"
    }
   ],
   "source": [
    "classifier.train(\n",
    "    input_fn=lambda: input_fn(train, train_y, training=True),\n",
    "    steps=5000)\n",
    "# We include a lambda to avoid creating an inner function previously"
   ]
  },
  {
   "cell_type": "code",
   "execution_count": 7,
   "id": "09da07d2",
   "metadata": {},
   "outputs": [
    {
     "name": "stdout",
     "output_type": "stream",
     "text": [
      "INFO:tensorflow:Calling model_fn.\n",
      "INFO:tensorflow:Done calling model_fn.\n",
      "INFO:tensorflow:Starting evaluation at 2024-01-12T22:10:15\n",
      "WARNING:tensorflow:From /Users/satya/anaconda3/lib/python3.11/site-packages/tensorflow/python/training/evaluation.py:260: FinalOpsHook.__init__ (from tensorflow.python.training.basic_session_run_hooks) is deprecated and will be removed in a future version.\n",
      "Instructions for updating:\n",
      "Use tf.keras instead.\n",
      "INFO:tensorflow:Graph was finalized.\n",
      "INFO:tensorflow:Restoring parameters from /var/folders/bg/6_9vb87j4g7bg1cdvmfv4v_w0000gn/T/tmps5b2runt/model.ckpt-5000\n",
      "INFO:tensorflow:Running local_init_op.\n",
      "INFO:tensorflow:Done running local_init_op.\n",
      "INFO:tensorflow:Inference Time : 0.06442s\n",
      "INFO:tensorflow:Finished evaluation at 2024-01-12-22:10:15\n",
      "INFO:tensorflow:Saving dict for global step 5000: accuracy = 0.8, average_loss = 0.47425714, global_step = 5000, loss = 0.47425714\n",
      "INFO:tensorflow:Saving 'checkpoint_path' summary for global step 5000: /var/folders/bg/6_9vb87j4g7bg1cdvmfv4v_w0000gn/T/tmps5b2runt/model.ckpt-5000\n",
      "test set accuracy is 80%\n"
     ]
    }
   ],
   "source": [
    "eval_result = classifier.evaluate(\n",
    "    input_fn=lambda: input_fn(test, test_y, training=False))\n",
    "\n",
    "print(\"test set accuracy is {}%\".format(round(eval_result['accuracy']*100)))"
   ]
  },
  {
   "cell_type": "code",
   "execution_count": null,
   "id": "9cb22034",
   "metadata": {},
   "outputs": [
    {
     "name": "stdout",
     "output_type": "stream",
     "text": [
      "Please type numeric values as prompted.\n"
     ]
    }
   ],
   "source": [
    "#USING THE MODEL TO MAKE PREDICTIONS\n",
    "\n",
    "def input_fn(features, batch_size=256):\n",
    "    # Convert the inputs to a Dataset without labels.\n",
    "    return tf.data.Dataset.from_tensor_slices(dict(features)).batch(batch_size)\n",
    "\n",
    "features = ['SepalLength', 'SepalWidth', 'PetalLength', 'PetalWidth']\n",
    "predict = {}\n",
    "\n",
    "print(\"Please type numeric values as prompted.\")\n",
    "for feature in features:\n",
    "  valid = True\n",
    "  while valid: \n",
    "    val = input(feature + \": \")\n",
    "    if not val.isdigit(): valid = False\n",
    "\n",
    "  predict[feature] = [float(val)]\n",
    " \n",
    "for pred_dict in predictions:\n",
    "    print(pred_dict)\n",
    "    class_id=pred_dict['class_ids'][0]\n",
    "    probability = pred_dict['probabilities'][class_id]\n",
    "    print('Prediction is \"{}\" ({:.1f}%)'.format(SPECIES[class_id], 100 * probability))\n",
    "\n",
    "\n"
   ]
  },
  {
   "cell_type": "code",
   "execution_count": null,
   "id": "137cd918",
   "metadata": {},
   "outputs": [],
   "source": []
  }
 ],
 "metadata": {
  "kernelspec": {
   "display_name": "Python 3 (ipykernel)",
   "language": "python",
   "name": "python3"
  },
  "language_info": {
   "codemirror_mode": {
    "name": "ipython",
    "version": 3
   },
   "file_extension": ".py",
   "mimetype": "text/x-python",
   "name": "python",
   "nbconvert_exporter": "python",
   "pygments_lexer": "ipython3",
   "version": "3.11.5"
  }
 },
 "nbformat": 4,
 "nbformat_minor": 5
}
